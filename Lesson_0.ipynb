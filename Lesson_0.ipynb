{
 "cells": [
  {
   "cell_type": "markdown",
   "metadata": {},
   "source": [
    "## Week 0: Introduction to the iPython notebook, and basic programming concepts"
   ]
  },
  {
   "cell_type": "markdown",
   "metadata": {},
   "source": [
    "Welcome to the iPython notebook! Please modify this notebook to get a feel for how Python works.  \n",
    "\n",
    "At the top you can rename this notebook by clicking on the notebook's name.  There are tools to add cells, as well as change their type.  For example, while we'll mostly use cells with Python code in them, this cell is a Markdown cell, which contains text and markup language.  Boxes like this are useful for longer comments about what your code is doing - they are useful to explain your thinking (to other people using or reading your code, or, importantly, to your future self when you come back to try to use the code later). \n",
    "\n",
    "Any python code preceded by the # symbol on each line is \"commented out\", which means it will not be executed.  Comments often provide descriptive commentary that explains the purpose and design of the accompanying code.\n",
    "\n",
    "You can include latex formulae by using \\$, like this: $E = mc^2$.  (If you double-click on this box, you can see the code used to write that formula.)  Press shift-enter to see the formatted output again. \n",
    "\n",
    "In code boxes you can execute python code.  Click on a cell and press shift-enter to execute the code.  Click on the next cell and press shift-enter."
   ]
  },
  {
   "cell_type": "code",
   "execution_count": null,
   "metadata": {
    "collapsed": false
   },
   "outputs": [],
   "source": [
    "#Add two integers\n",
    "1+2"
   ]
  },
  {
   "cell_type": "markdown",
   "metadata": {},
   "source": [
    "In python, you can use the usual +, -, /, and \\* as well as raising something to a power with \\**. You can also make comparisons using >, <, <=, >= and ==. Try this statement."
   ]
  },
  {
   "cell_type": "code",
   "execution_count": null,
   "metadata": {
    "collapsed": false
   },
   "outputs": [],
   "source": [
    "#Do more math, with parentheses to enfore order of operations\n",
    "((1+1)**2-1)/3"
   ]
  },
  {
   "cell_type": "markdown",
   "metadata": {},
   "source": [
    "A variable assignment is made by using ="
   ]
  },
  {
   "cell_type": "code",
   "execution_count": null,
   "metadata": {
    "collapsed": false
   },
   "outputs": [],
   "source": [
    "x = 5\n",
    "print(x)"
   ]
  },
  {
   "cell_type": "markdown",
   "metadata": {},
   "source": [
    "Like all programming languages, Python uses a number of data types. So far, the numbers have been  integers, which are whole numbers.  Also commonly used in physics code are floating point numbers, which are decimal numbers or fractions.  Note that division of integers in Python 3 automatically results in a floating-point answer."
   ]
  },
  {
   "cell_type": "code",
   "execution_count": null,
   "metadata": {
    "collapsed": false
   },
   "outputs": [],
   "source": [
    "#Add floating point numbers\n",
    "print(1.+1.7)\n",
    "print(1/3)"
   ]
  },
  {
   "cell_type": "markdown",
   "metadata": {},
   "source": [
    "You can also convert data from one type to another by explicit casting.  Here we convert strings to integers that can be used as numbers.  The first print statement combines the two strings by sticking the 4 onto the 5.  The second print converts them to integers and adds them."
   ]
  },
  {
   "cell_type": "code",
   "execution_count": null,
   "metadata": {
    "collapsed": false
   },
   "outputs": [],
   "source": [
    "x = \"5\"\n",
    "y = \"4\"\n",
    "print(x+y)\n",
    "print(int(x)+int(y))"
   ]
  },
  {
   "cell_type": "markdown",
   "metadata": {},
   "source": [
    "You may have noticed by this point that you can explicitly print output using the `print()` function, but that many of the cells above have no `print()` but still generate output.  That is because executing a code cell will print out the output (or more formally, the return value) of the last line of the cell.  So if that cell is a number, expression, or variable, its value gets printed.  So a quick way to see the value of a variable is just to enter it in an empty cell and press shift-enter to execute the cell.  Try this:"
   ]
  },
  {
   "cell_type": "code",
   "execution_count": null,
   "metadata": {
    "collapsed": true
   },
   "outputs": [],
   "source": [
    "y = 6.4\n",
    "z = 6.4**3\n",
    "z"
   ]
  },
  {
   "cell_type": "markdown",
   "metadata": {},
   "source": [
    "The above is fine for quick examination of variables while you're working, but in general if you want your final code to print values, you should include `print()` statements explicitly. "
   ]
  },
  {
   "cell_type": "markdown",
   "metadata": {},
   "source": [
    "Besides being able to output using `print`, its also important to be able to collect user input.  Python has a simple `input` function that does just that.  Note that because `input` returns a string, we must explicitly cast it as a number."
   ]
  },
  {
   "cell_type": "code",
   "execution_count": null,
   "metadata": {
    "collapsed": true
   },
   "outputs": [],
   "source": [
    "a = int(input(\"enter a number> \"))\n",
    "print(a+4)"
   ]
  },
  {
   "cell_type": "markdown",
   "metadata": {},
   "source": [
    "Floating point numbers are prone to machine errors.  \n",
    "\n",
    "Try the code in the next cell, but before you do, predict what the output will be.  Remember that a double equals sign == is *testing* for equality, i.e. checking to see if two things are equal, whereas a single equals sign = assigns a value.  So `x=y` would set `x` to whatever value `y` currently has, which is not what we want to do here. "
   ]
  },
  {
   "cell_type": "code",
   "execution_count": null,
   "metadata": {
    "collapsed": true
   },
   "outputs": [],
   "source": [
    "from numpy import pi, sin\n",
    "x = sin(pi)\n",
    "y = sin(3*pi)\n",
    "print(x==y)\n",
    "print(x)\n",
    "print(y)"
   ]
  },
  {
   "cell_type": "markdown",
   "metadata": {},
   "source": [
    "What's going on?  Here we have imported two functions from the library numpy, which has a number of useful mathematical tools, including trig functions and constants like pi.  Then we did some simple calculations.  Add a bit more code above (e.g. some `print()` statements) and see if you can figure out why you get the answer above for that final line. \n",
    "\n",
    "In addition to importing specific parts of the library, we can also import the entire library, and, if we want, assign it a shorter nickname using the `as` syntax, which is optional. "
   ]
  },
  {
   "cell_type": "code",
   "execution_count": null,
   "metadata": {
    "collapsed": false
   },
   "outputs": [],
   "source": [
    "import numpy as np\n",
    "np.pi"
   ]
  },
  {
   "cell_type": "markdown",
   "metadata": {},
   "source": [
    "Here we've imported the entire library, and told python that we want to refer to it by the abbreviation `np`.  Unlike the `from numpy import blah` line above, here the name assigned (`np`) has to be used when calling functions from the library.  If you want to import everything without having to use `np`, you can use `from numpy import *`, but this is usually not a good idea: it imports many functions you may not need, and it also makes for confusing code, since you've imported a lot of functions whose names may overlap with other functions you might use or define. \n",
    "\n",
    "So in general, we'll use `import numpy as np`.  (And you'll see that we use it in pretty much every program we write.) \n",
    "\n",
    "We can find out all the functions included in numpy by using dir."
   ]
  },
  {
   "cell_type": "code",
   "execution_count": null,
   "metadata": {
    "collapsed": true
   },
   "outputs": [],
   "source": [
    "dir(np)"
   ]
  },
  {
   "cell_type": "markdown",
   "metadata": {},
   "source": [
    "Most libraries will also include help for the functions included.  For example, we can get help on the `print()` function:"
   ]
  },
  {
   "cell_type": "code",
   "execution_count": null,
   "metadata": {
    "collapsed": true
   },
   "outputs": [],
   "source": [
    "help(print)"
   ]
  },
  {
   "cell_type": "markdown",
   "metadata": {},
   "source": [
    "However, `help()` gives an unexpected result on a numpy function:"
   ]
  },
  {
   "cell_type": "code",
   "execution_count": null,
   "metadata": {
    "collapsed": true
   },
   "outputs": [],
   "source": [
    "help(np.sin)"
   ]
  },
  {
   "cell_type": "markdown",
   "metadata": {},
   "source": [
    "Note that there it states that numpy has its own helper function, `info`.  So get help for numpy functions like this: "
   ]
  },
  {
   "cell_type": "code",
   "execution_count": null,
   "metadata": {
    "collapsed": true
   },
   "outputs": [],
   "source": [
    "np.info(np.sin)"
   ]
  },
  {
   "cell_type": "markdown",
   "metadata": {},
   "source": [
    "Numpy also has a shortcut to get this helpful information - also called the docstring in programming.  "
   ]
  },
  {
   "cell_type": "code",
   "execution_count": null,
   "metadata": {
    "collapsed": true
   },
   "outputs": [],
   "source": [
    "np.sin?"
   ]
  },
  {
   "cell_type": "markdown",
   "metadata": {},
   "source": [
    "Another commonly used datastructure in Python is the list."
   ]
  },
  {
   "cell_type": "code",
   "execution_count": null,
   "metadata": {
    "collapsed": false
   },
   "outputs": [],
   "source": [
    "#demonstrate the list structure\n",
    "data = [1, 2, 3, 4, 5]\n",
    "print(data[2])"
   ]
  },
  {
   "cell_type": "markdown",
   "metadata": {},
   "source": [
    "Note that the first list index is zero, so `data[2]` calls the *third* element in the list.  \n",
    "\n",
    "Python makes it very easy to iterate over lists, i.e. to go through the elements one at a time and do something with each element. "
   ]
  },
  {
   "cell_type": "code",
   "execution_count": null,
   "metadata": {
    "collapsed": false
   },
   "outputs": [],
   "source": [
    "for d in data:\n",
    "    print(d)"
   ]
  },
  {
   "cell_type": "markdown",
   "metadata": {},
   "source": [
    "Unlike many programming languages like C, in Python, spacing is important.  Everything indented after the `for` statement will be included in the `for` loop.  This is also true for other flow control statements like `if` and `while`."
   ]
  },
  {
   "cell_type": "code",
   "execution_count": null,
   "metadata": {
    "collapsed": false
   },
   "outputs": [],
   "source": [
    "counter = 0\n",
    "while counter < len(data):\n",
    "    print(\"Trying element \", counter)\n",
    "    if data[counter] == 2:\n",
    "        print(\"found it!\")\n",
    "    counter = counter + 1"
   ]
  },
  {
   "cell_type": "markdown",
   "metadata": {},
   "source": [
    "Note that although a statement like `counter = counter + 1` makes no mathematical sense, it is a valid statement to increment the counter by 1. (Remember, a single equals sign is not asserting that things are equal as it does in mathematics; it is *defining* the left-hand side to take on the current value of the right-hand side.)   The statement, \"found it\" is another data type, a string.  The comparisons here create booleans (`True` or `False`), another data type.\n",
    "\n",
    "You may have noticed that the code above is inefficient - even after it finds the desired value, it steps through the other values, too.  See if you can figure out how to modify the above code so that it exits the loop once it finds that value. \n",
    "\n",
    "A useful data type from the numpy library is the array, which includes many useful array features."
   ]
  },
  {
   "cell_type": "code",
   "execution_count": null,
   "metadata": {
    "collapsed": false
   },
   "outputs": [],
   "source": [
    "A = np.array([[1,0],[0,1]])\n",
    "print(A)\n",
    "B = np.array([[1,1],[1,1]])\n",
    "print(B)\n",
    "np.dot(A,B)"
   ]
  },
  {
   "cell_type": "markdown",
   "metadata": {},
   "source": [
    "Numpy includes a number of features to create useful arrays, `np.ones([x,y])` creates an array `x` by `y` of ones.  `np.zeros` does the same with zeroes.  The function `linspace` creates a set of equally spaced values between two numbers.  "
   ]
  },
  {
   "cell_type": "code",
   "execution_count": null,
   "metadata": {
    "collapsed": false
   },
   "outputs": [],
   "source": [
    "x = np.linspace(0,10,20)\n",
    "print(x)"
   ]
  },
  {
   "cell_type": "markdown",
   "metadata": {},
   "source": [
    "Most mathematical functions applied to arrays work element-wise, so + or \\* will add or multiply individual elements of an array:"
   ]
  },
  {
   "cell_type": "code",
   "execution_count": null,
   "metadata": {
    "collapsed": false
   },
   "outputs": [],
   "source": [
    "a = np.array([3,5,8, 10])\n",
    "print(a)\n",
    "print(a*5)"
   ]
  },
  {
   "cell_type": "markdown",
   "metadata": {},
   "source": [
    "You can also apply functions like `sin` or `exp` to numpy arrays, *as long as you use the numpy version of the function*.  So `np.sin` can be applied to a numpy array, but the `sin` function imported from the standard math library can only take a scalar argument. \n",
    "\n",
    "You can also define your own functions in Python.  Like `for` or `if`, indentation is important; everything indented will be within the function.  You define a function with `def`:"
   ]
  },
  {
   "cell_type": "code",
   "execution_count": null,
   "metadata": {
    "collapsed": false
   },
   "outputs": [],
   "source": [
    "def addTwoNumbers(a, b):\n",
    "    '''Adds two numbers and returns the result.\n",
    "    Parameters:\n",
    "    a - the first integer or real to be added.\n",
    "    b - the second integer or real to be added.\n",
    "    \n",
    "    Returns: the integer or real sum of a and b.'''\n",
    "    \n",
    "    return a + b #no type casting; uses built-in rules\n",
    "\n",
    "\n",
    "help(addTwoNumbers)\n",
    "addTwoNumbers(3,5)     #Here I am calling the function."
   ]
  },
  {
   "cell_type": "markdown",
   "metadata": {},
   "source": [
    "You should always include help text, enclosed by triple quotation marks, to describe what the function does.  The help text is called a _docstring_, and includes a description of the purpose of the function, what the function expects as inputs (parameters) and what the result will be.  The np.sin help text earlier had more information, sometimes the help text includes what errors the function might throw or examples of the function's usage.\n",
    "\n",
    "Inline comments are important to explain what the function is doing, as do appropriate variable names.  Someone else may need to use your code, or you'll come back to it years later and forgotten everything about it.  Make a habit of documenting your code as you write it.\n",
    "\n",
    "The other library we will be commonly using is `matplotlib`.  This library contains many of the plotting functions of Matlab.  To use it, we import the library (`matplotlib.pyplot`), and also tell iPython that we would like any graphics output to be displayed directly in the notebook:"
   ]
  },
  {
   "cell_type": "code",
   "execution_count": null,
   "metadata": {
    "collapsed": false
   },
   "outputs": [],
   "source": [
    "#tell notebook to plot graphics inside the cell rather than in a separate window or file (typically included at the top of a notebook)\n",
    "%matplotlib inline  \n",
    "import matplotlib.pyplot as mp  #map namespace of functions in module matplotlib.pyplot to reference \"mp\"\n",
    "\n",
    "x = np.array(range(0,10))\n",
    "y = x**2\n",
    "mp.plot(x,y, \"bo\", label=\"data\")\n",
    "mp.xlabel(\"number $x$\")\n",
    "mp.ylabel(\"square $x^2$\")\n",
    "mp.legend(bbox_to_anchor=(1.5,1))\n",
    "mp.title(\"Square of numbers 1-10\")\n",
    "mp.show()"
   ]
  },
  {
   "cell_type": "markdown",
   "metadata": {},
   "source": [
    "We have used the function `np.array()` to change the type of `range(0,10)` from a list to an array, in Python you can do this for most data types. Here it is useful because you cannot use mathematical functions like \\** on lists like you can arrays.  The `range(0,10)` function creates a list of integers from 0 to 10.\n",
    "\n",
    "Matplotlib has a lot of other functionality, such as LaTeX input (included in this example), semilog or polar plots, and multiple subfigures.  We won't explore all the features, but there are many tutorials that you can find on the web. \n",
    "\n",
    "Finally, you can display two-dimensional arrays as if they were images, i.e. with each array value representing the intensity of one pixel:"
   ]
  },
  {
   "cell_type": "code",
   "execution_count": null,
   "metadata": {
    "collapsed": false,
    "scrolled": true
   },
   "outputs": [],
   "source": [
    "values = np.zeros([100,100],float)  #create 100 x 100 array of zeros as floating point numbers (not integers)\n",
    "\n",
    "#fill with sum of x-position and y-position\n",
    "for i in range(100):\n",
    "    for j in range(100):\n",
    "        values[i,j] = i + j \n",
    "        \n",
    "mp.imshow(values)\n",
    "mp.show()"
   ]
  },
  {
   "cell_type": "markdown",
   "metadata": {},
   "source": [
    "Notice where the origin is when you use `mp.imshow()`.  Be aware that different functions have different default behavior based on the conventions applied by the coder.  If you want to place the origin of a 2D map at the lower left (e.g. when you have a map as a function of $x$ and $y$), you can set a keyword argument (\"kwarg\" for short):"
   ]
  },
  {
   "cell_type": "code",
   "execution_count": null,
   "metadata": {
    "collapsed": false
   },
   "outputs": [],
   "source": [
    "mp.imshow(values,origin='lower')"
   ]
  },
  {
   "cell_type": "markdown",
   "metadata": {},
   "source": [
    "Notice also that the new cell already had access to the data in `values` and understood the label.  Anything you've already run in the notebook that is at the scope of the cell (i.e. not inside another function) is available to future cells.  If you don't run your cells in order, you might have a problem the next time you open your notebook.  There's a fix for this described below in the exercises.\n",
    "\n",
    "I have aesthetic and informational issues with the default colormap, so I typically choose one that's appropriate to my purpose and occasionally create my own.  In addition to calling functions that find the current plot and insert labels, etc., you can also interact with the underlying axis *object* and call its *methods*.  The type and memory location shown in angle brackets above is the un-labeled object that is the return value of the `imshow()` function."
   ]
  },
  {
   "cell_type": "code",
   "execution_count": null,
   "metadata": {
    "collapsed": false
   },
   "outputs": [],
   "source": [
    "im = mp.imshow(values) # create axis object with image object inside\n",
    "\n",
    "#set image properties\n",
    "im.set_cmap('Blues')\n",
    "im.set_interpolation('none')\n",
    "\n",
    "#get handle for axis object\n",
    "ax = im.axes #this is an *attribute* of the image object -- the container it lives inside\n",
    "# alternatively, we could use mp.gca() # \"get current axis\" and assign axis object to label 'ax'\n",
    "# then we could get a handle to the image object via \n",
    "# im = ax.images[0]\n",
    "\n",
    "ax.set_xlabel('$x$ (pixels)') # assign labels and title\n",
    "ax.set_ylabel('$y$ (pixels)')\n",
    "ax.set_title('Image Data',y=1.02) \n",
    "ax.invert_yaxis()"
   ]
  },
  {
   "cell_type": "markdown",
   "metadata": {},
   "source": [
    "There are clearly multiple ways of accomplishing a task, and which is optimal depends on your style and goals.  Despite what the Zen of Python indicates, it is useful to have more than one way to do things.  If you ever wonder which style is most \"pythonic\" there is plenty of argument on stackexchange."
   ]
  },
  {
   "cell_type": "markdown",
   "metadata": {},
   "source": [
    "## Exercises:"
   ]
  },
  {
   "cell_type": "markdown",
   "metadata": {},
   "source": [
    "Write code for each of the exercises below, in an iPython notebook.  You can either include them directly in this notebook, or you can create a new one that has only your code and output for the exercises.  \n",
    "\n",
    "You will hand in your iPython notebook by uploading it to the link on the course Moodle page.  *Be sure all of the code runs without errors before turning it in!*  In general, once you have everything working it's a good idea to save the notebook, then use the menu commands to clear all output (Cell $\\rightarrow$  All output $\\rightarrow$ Clear) and then run all of the code at once (Cell $\\rightarrow$ Run All).  This will ensure that you haven't inadvertently run some cells out of order. "
   ]
  },
  {
   "cell_type": "markdown",
   "metadata": {},
   "source": [
    "**Exercise # 1**\n",
    "Make a function that returns the first N numbers in the Fibonacci sequence, $F_0,...F_n$."
   ]
  },
  {
   "cell_type": "code",
   "execution_count": null,
   "metadata": {
    "collapsed": true,
    "scrolled": true
   },
   "outputs": [],
   "source": []
  },
  {
   "cell_type": "markdown",
   "metadata": {},
   "source": [
    "**Exercise # 2** \n",
    "Write a function that calculates the number of primes in the first N integers."
   ]
  },
  {
   "cell_type": "code",
   "execution_count": null,
   "metadata": {
    "collapsed": true
   },
   "outputs": [],
   "source": []
  },
  {
   "cell_type": "markdown",
   "metadata": {},
   "source": [
    "**Exercise # 3**\n",
    "Create a function that calculates the number of even and odd numbers in the first N integers."
   ]
  },
  {
   "cell_type": "code",
   "execution_count": null,
   "metadata": {
    "collapsed": true
   },
   "outputs": [],
   "source": []
  },
  {
   "cell_type": "markdown",
   "metadata": {},
   "source": [
    "**Exercise # 4**\n",
    "\n",
    "(a) Make a function that creates an array R containing the ratios $R_n = \\frac{F_n}{F_{n-1}}$ for $n=1,...N$ where $F_n$ is the Fibonacci sequence.  Plot R along with the constant $ r = \\frac{1 + \\sqrt{5}}{2}  $.  This is the golden ratio.\n",
    "\n",
    "(b) Decide how you could tell when the approximation is \"converged\" to the true value and find out how many iterations ($N$) are required to reach convergence."
   ]
  },
  {
   "cell_type": "code",
   "execution_count": null,
   "metadata": {
    "collapsed": true
   },
   "outputs": [],
   "source": []
  },
  {
   "cell_type": "markdown",
   "metadata": {},
   "source": [
    "**Exercise # 5**\n",
    "Write a function to calculate the value of $\\pi$ using the approximation $q_n = 4 * \\sum_{j=0}^n \\frac{(-1)^j}{2 j + 1}$ . Have the function continue calcuating $\\pi$ for higher $j$ until the error is less than a given value $\\epsilon$.  Save the values for each $q_n$ and plot them once $\\epsilon$ is reached."
   ]
  },
  {
   "cell_type": "code",
   "execution_count": null,
   "metadata": {
    "collapsed": true
   },
   "outputs": [],
   "source": []
  }
 ],
 "metadata": {
  "kernelspec": {
   "display_name": "Python [py36]",
   "language": "python",
   "name": "Python [py36]"
  },
  "language_info": {
   "codemirror_mode": {
    "name": "ipython",
    "version": 3
   },
   "file_extension": ".py",
   "mimetype": "text/x-python",
   "name": "python",
   "nbconvert_exporter": "python",
   "pygments_lexer": "ipython3",
   "version": "3.6.3"
  }
 },
 "nbformat": 4,
 "nbformat_minor": 1
}
