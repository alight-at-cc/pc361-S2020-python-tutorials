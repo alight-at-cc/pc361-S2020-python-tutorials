{
 "cells": [
  {
   "cell_type": "markdown",
   "metadata": {},
   "source": [
    "<h2 align=\"center\">Iterative Methods for Solving Equations</h2> "
   ]
  },
  {
   "cell_type": "markdown",
   "metadata": {},
   "source": [
    "Solving differential equations numerically can often be much faster than doing so analytically.  The Euler-Cromer method provides a simple solution to solving equations.  Read pages 1-5 of <a href=\"https://moodle.swarthmore.edu/mod/resource/view.php?id=180998\">the PDF provided on Moodle</a> for the basic background information on this method, which we'll use in today's lesson.\n",
    "\n",
    "Once you've finished that, look at the code below."
   ]
  },
  {
   "cell_type": "code",
   "execution_count": null,
   "metadata": {
    "collapsed": false
   },
   "outputs": [],
   "source": [
    "#import lines\n",
    "%matplotlib inline\n",
    "import matplotlib.pyplot as plt\n",
    "import numpy as np\n",
    "\n",
    "def EulerCromer(tfinal, dt, v0):\n",
    "    '''Implements the Euler-Cromer method to solve an ODE.  Plots the velocity and time of an\n",
    "    object moving at initial velocity v0 from time t=0 to t=tfinal.\n",
    "    \n",
    "    Arguments:  tfinal (final time) - number > 0\n",
    "                dt (time step) - number > 0 \n",
    "                v0 (initial velocity)\n",
    "                \n",
    "    Returns nothing.'''\n",
    "    t = 0 # initial time\n",
    "    y = 0 # initial position\n",
    "    a = 0 # no acceleration\n",
    "    v = v0 # initial velocity\n",
    "\n",
    "    # Set up position, velocity, and time as lists, initially with one\n",
    "    # entry each:\n",
    "    time = [t] \n",
    "    ypos = [y] \n",
    "    yvel = [v]\n",
    "    \n",
    "    while t <= tfinal - dt: # Update variables using Eqs. (1) & (2) \n",
    "        v = v + a * dt \n",
    "        # Note that this uses the *new* v we just defined in prev. step\n",
    "        y = y + v * dt\n",
    "\n",
    "        # Add updated variables to the lists \n",
    "        yvel.append(v) \n",
    "        ypos.append(y)\n",
    "\n",
    "        # Increment time \n",
    "        t = t + dt \n",
    "        time.append(t)\n",
    "        \n",
    "    #plot results\n",
    "    plt.subplot(2,1,1)\n",
    "    plt.plot(time,yvel)\n",
    "    plt.title(\"Velocity\")\n",
    "    plt.subplot(2,1,2)\n",
    "    plt.plot(time,ypos)\n",
    "    plt.title(\"Position\")\n",
    "    plt.tight_layout(pad=2)\n",
    "    plt.show()\n",
    "    \n",
    "EulerCromer(10,0.1,50)"
   ]
  },
  {
   "cell_type": "markdown",
   "metadata": {},
   "source": [
    "These plots show the velocity and position of an object moving at zero accceleration.  This is not particularly interesting.  But the nice thing about solving equations numerically is that it makes it relatively simple to add other effects, which in some cases can be difficult to build into an analytic solution.\n",
    "\n",
    "*Note:*  In the exercises below, you will write successively more realistic versions of the algorithm above.  For each case, write a new function, copying and pasting code as necessary from your previous cell(s).  Give each new function a different name so that there is no confusion about which function your code is calling.\n",
    "\n",
    "**Exercise 1** Create a modified version of the code above that includes Earth's gravity.  The acceleration, $a$, will no longer be a constant.  The force of gravity on an object near earth is given by $F = G m M_E / r^2$ where $G = 6.674 \\times 10^{-11}$ in SI units and the mass of Earth is $M_E = 5.972 \\times 10^{24}$ kg.  Use the radius of the Earth, $R_E = y=6.371 \\times 10^6$ m as your starting `y`.  Write your code as a function that takes as an argument an initial velocity, a time step and a final time."
   ]
  },
  {
   "cell_type": "code",
   "execution_count": null,
   "metadata": {
    "collapsed": true
   },
   "outputs": [],
   "source": []
  },
  {
   "cell_type": "markdown",
   "metadata": {},
   "source": [
    "**Exercise 2** We are launching a rocket powered by an Estes 6-3 rocket engine.  Assume the mass of the rocket is constant (because the weight of the propellent << weight of the rocket).  The Estes rocket has total impulse of $10 N s$ over $1.6s$ and our rocket weighs $100 g$ including the engine.  Have the function stop when the rocket lands. Print the maximum height and time at which it landed as well as the velocity and position curves you printed before.  Design your function such that we can use other values for mass, thrust and time of firing.  You can assume initial velocity is 0."
   ]
  },
  {
   "cell_type": "code",
   "execution_count": null,
   "metadata": {
    "collapsed": true
   },
   "outputs": [],
   "source": []
  },
  {
   "cell_type": "markdown",
   "metadata": {},
   "source": [
    "**Exercise 3** Modify your code to now include drag.  Quadratic air drag in one dimension can be approximated as an additional acceleration, with a magnitude of $ a_{drag} = \\frac{1}{2m} C_D \\rho A v^2$ (where $C_D = 0.5$ and $\\rho=1.3$ approximately on Earth) and a direction that is *opposite the direction of the velocity*.  Your function should take $A$, the cross-sectional area of the object as an argument.  For your final test case to turn in, use $A = 0.01\\, m^2$, but play around with other areas to see the effect.  "
   ]
  },
  {
   "cell_type": "code",
   "execution_count": null,
   "metadata": {
    "collapsed": true
   },
   "outputs": [],
   "source": []
  },
  {
   "cell_type": "markdown",
   "metadata": {},
   "source": [
    "**Exercise 4** Implement the Euler-Cromer method to solve for the motion of a mass on a frictionless surface that is connected to a wall by an ideal Hooke's Law spring.  To reduce the number of necessary parameters, use the form $\\ddot{x} = -\\omega_0^2 x$.  Formulate your equations in terms of the normalized displacement, $x/L$, so that your initial position will be in the interval $[0,1)$.  Plot the position and velocity as functions of time, and make a \"phase portrait\" plot of $v(t)$ versus $x(t)$.  Check your result against what you know about the simple harmonic oscillator.  What happens if you choose a time step that is too large (use a number that does not divide evenly by the oscillation period)?  "
   ]
  },
  {
   "cell_type": "code",
   "execution_count": null,
   "metadata": {
    "collapsed": true
   },
   "outputs": [],
   "source": []
  },
  {
   "cell_type": "markdown",
   "metadata": {},
   "source": [
    "**Exercise 5** Real springs can't maintain a linear (Hooke's Law) restoring force as the extension or compression gets to be of the order of the equilibrium length of the spring. As first step towards a more realistic model, add an additional force term $\\epsilon\\omega_0^2 x^3$ to your oscillator, making sure the sign is such that the force gets stronger as the displacement increases (a \"hard\" spring).  Plot the position on the same axes as the position of a SHO with the same natural frequency for each of the following cases:\n",
    "\n",
    "* $\\epsilon=1$, $x_0/L$ = 0.1\n",
    "* $\\epsilon=1$, $x_0/L$ = 0.9\n",
    "* $\\epsilon=10$, $x_0/L$ = 0.1\n",
    "* $\\epsilon=10$, $x_0/L$ = 0.9\n",
    "\n",
    "Do the same for the velocity.  Note the distortion from sinusoidal motion as the nonlinearity becomes significant.  What happens to the frequency as the amplitude increases?  What does this mean for the time step you must choose?"
   ]
  },
  {
   "cell_type": "code",
   "execution_count": null,
   "metadata": {
    "collapsed": true
   },
   "outputs": [],
   "source": []
  },
  {
   "cell_type": "markdown",
   "metadata": {
    "collapsed": true
   },
   "source": [
    "**(Optional) Animation** It's much more fun to present your dynamics if you can make a movie out of them.  For example:"
   ]
  },
  {
   "cell_type": "code",
   "execution_count": null,
   "metadata": {
    "collapsed": false
   },
   "outputs": [],
   "source": [
    "import matplotlib.animation\n",
    "from IPython.display import HTML\n",
    "\n",
    "t = np.linspace(0,2*np.pi)\n",
    "x = np.sin(t)\n",
    "\n",
    "fig, ax = plt.subplots()\n",
    "ax.axis([0,2*np.pi,-1,1])\n",
    "l, = ax.plot([],[],'o')\n",
    "plt.close(fig)\n",
    "\n",
    "def animate(i):\n",
    "    l.set_data(t[i], x[i])\n",
    "\n",
    "ani = matplotlib.animation.FuncAnimation(fig, animate, frames=len(t))\n",
    "\n",
    "HTML(ani.to_jshtml())"
   ]
  },
  {
   "cell_type": "markdown",
   "metadata": {},
   "source": [
    "You can change the data that's displayed in each frame as you like to get different effects."
   ]
  },
  {
   "cell_type": "code",
   "execution_count": null,
   "metadata": {
    "collapsed": false
   },
   "outputs": [],
   "source": [
    "fig, ax = plt.subplots()\n",
    "ax.axis([0,2*np.pi,-1,1])\n",
    "l, = ax.plot([],[],'--')\n",
    "plt.close(fig)\n",
    "\n",
    "def animate(i):\n",
    "    l.set_data(t[:i], x[:i])\n",
    "\n",
    "ani = matplotlib.animation.FuncAnimation(fig, animate, frames=len(t))\n",
    "\n",
    "HTML(ani.to_jshtml())"
   ]
  },
  {
   "cell_type": "markdown",
   "metadata": {},
   "source": [
    "**(Optional) Exercise 6** Make an animation tracing out the position and velocity of the nonlinear oscillator you simulated above."
   ]
  },
  {
   "cell_type": "code",
   "execution_count": null,
   "metadata": {
    "collapsed": true
   },
   "outputs": [],
   "source": []
  }
 ],
 "metadata": {
  "anaconda-cloud": {},
  "kernelspec": {
   "display_name": "Python 3",
   "language": "python",
   "name": "py35"
  },
  "language_info": {
   "codemirror_mode": {
    "name": "ipython",
    "version": 2
   },
   "file_extension": ".py",
   "mimetype": "text/x-python",
   "name": "python",
   "nbconvert_exporter": "python",
   "pygments_lexer": "ipython2",
   "version": "2.7.12"
  }
 },
 "nbformat": 4,
 "nbformat_minor": 1
}
