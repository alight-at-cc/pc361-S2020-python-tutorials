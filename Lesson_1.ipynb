{
 "cells": [
  {
   "cell_type": "markdown",
   "metadata": {},
   "source": [
    "<h2 align=\"center\">Numerical Integration</h2> "
   ]
  },
  {
   "cell_type": "markdown",
   "metadata": {},
   "source": [
    "It is often useful to be able to integrate functions numerically.  This is important if you don't have an analytic function at all (e.g. when you have tabulated datapoints from some experimental apparatus) or when you have a function, but it isn't one with an analytic solution to the integral."
   ]
  },
  {
   "cell_type": "markdown",
   "metadata": {},
   "source": [
    "## Background\n",
    "\n",
    "There are several techniques for numerical integration.  Today we will consider two of them: the trapezoidal rule, and Simpson's rule. "
   ]
  },
  {
   "cell_type": "markdown",
   "metadata": {},
   "source": [
    "<b>Background reading \\#1</b>  In Moodle, you will find a PDF document linked for today's lab.  This gives some background on different numerical integration methods.  Download <a href=\"https://moodle.swarthmore.edu/mod/resource/view.php?id=180055\">the PDF document from Moodle</a>, and read the first two pages, on the trapezoidal method of integration."
   ]
  },
  {
   "cell_type": "markdown",
   "metadata": {},
   "source": [
    "<b>Exercise 1</b>  Choose a simple function (e.g. $\\sin^2 x$, $e^{-x}$, etc.) that you can integrate analytically (with pencil and paper).  Write a function that takes a numpy array of $x$ values and returns an array with the corresponding $y$ values for your chosen function. Choose your $x$ values to be between bounds that are easy to integrate over.  Write a function that takes your $x$ and $y$ arrays as input, and uses the trapezoidal rule to return the value of the integral $\\int_{a}^{b}\\, f(x)\\,dx$.  Print out the value of your integral, and calculate the percent error compared to the analytic solution. Make it clear in the comments to your code what your chosen function is, as well as its limits $a$ and $b$ and its analytic solution."
   ]
  },
  {
   "cell_type": "code",
   "execution_count": null,
   "metadata": {
    "collapsed": true
   },
   "outputs": [],
   "source": []
  },
  {
   "cell_type": "markdown",
   "metadata": {},
   "source": [
    "<b>Exercise 2</b>  What step size $h$ (spacing between consecutive elements in $x$) do you need in order to the answer to your integral correct to within 1 part in 10,000?  Write a function to test your trapezoidal function above and return the step size $h$ needed for the integral to be correct within 1 part in 10,000."
   ]
  },
  {
   "cell_type": "code",
   "execution_count": null,
   "metadata": {
    "collapsed": true
   },
   "outputs": [],
   "source": []
  },
  {
   "cell_type": "markdown",
   "metadata": {},
   "source": [
    "<b>Background reading \\#2</b> Read pp. 3 and 4 in the background document linked above, on Simpson's rule for integration."
   ]
  },
  {
   "cell_type": "markdown",
   "metadata": {},
   "source": [
    "<b> Exercise 3</b>  Do the same thing as Exercise 1, but write a new function that implements Simpson's rule to do the integration.  Compare the accuracy of this estimate of the integral to that of your trapezoidal rule estimate when both use the same number of points. "
   ]
  },
  {
   "cell_type": "code",
   "execution_count": null,
   "metadata": {
    "collapsed": true
   },
   "outputs": [],
   "source": []
  },
  {
   "cell_type": "markdown",
   "metadata": {},
   "source": [
    "One useful function in physics and astronomy is that for blackbody radiation.  It can be shown that the power emitted per unit area per wavelength interval $d\\lambda$ of a body at temperature $T$ is given by the expression $$\\pi B_\\lambda =\\frac{2\\pi hc^2}{\\lambda^5}\\frac{1}{e^{hc/\\lambda k T}-1}$$\n",
    "\n",
    "This can be integrated analytically over the interval $[0, \\infty]$, giving that the total power per unit area over all wavelengths is $\\sigma T^4$ where $\\sigma$ is the Stefan-Boltzmann constant given by $$\\sigma = \\frac{2 \\pi^5 k^4}{15 c^2 h^3} = 5.67 \\times 10^{-8}\\ \\frac{W}{m^2\\,K^4}$$  \n",
    "\n",
    "But there is no analytic solution over finite wavelength bounds - thus the integral has to be done numerically to find the power radiated in a particular wavelength band, such as the visible part of the electromagnetic spectrum. \n"
   ]
  },
  {
   "cell_type": "markdown",
   "metadata": {},
   "source": [
    "<b>Exercise 4</b> Write a function `Planck` that returns an array of values of the expression above, given an input array of wavelengths and a temperature $T$.  Be careful about the definitions of your constants, and appropriate conversion factors - choose units such that input wavelengths are in nanometers, and the output value is in $W/ m^2 / nm$. (That way when you integrate this later over a wavelength range in nm, you will get $W/m^2$ out.).  Also, for later exercises, you need wavelength to be the first argument of your `Planck` function.  Use your function to plot the Planck function from $400$ to $800 nm$ for a black body at $T=5000K$"
   ]
  },
  {
   "cell_type": "code",
   "execution_count": null,
   "metadata": {
    "collapsed": true
   },
   "outputs": [],
   "source": []
  },
  {
   "cell_type": "markdown",
   "metadata": {},
   "source": [
    "<b> Exercise 5</b> Use one of your integrating functions above to integrate the Planck function over the visible part of the spectrum, $\\lambda$ = 400 to 800 nm.   Plot the fraction of total power that is emitted in the visible region as a function of $T$ from 300 K to 20000 K."
   ]
  },
  {
   "cell_type": "code",
   "execution_count": null,
   "metadata": {
    "collapsed": true
   },
   "outputs": [],
   "source": []
  },
  {
   "cell_type": "markdown",
   "metadata": {},
   "source": [
    "The module Scipy contains a number of numerical integration methods.  Here's an example integrating $f(x) = x^2$ using the `scipy` method `quad`.  I've also used the `%timeit` feature of iPython to time the execution of this code.  Note also that it takes the *name* of a function as input, along with the bounds, rather than an array of values. "
   ]
  },
  {
   "cell_type": "code",
   "execution_count": null,
   "metadata": {
    "collapsed": true
   },
   "outputs": [],
   "source": [
    "import scipy.integrate as si\n",
    "\n",
    "def myFunc(x):\n",
    "    return x**2\n",
    "\n",
    "(ans, err) = si.quad(myFunc, 0,5)\n",
    "print(\"Answer is \", ans, \" +/- \", err)\n",
    "\n",
    "%timeit si.quad(myFunc, 0,5)\n"
   ]
  },
  {
   "cell_type": "markdown",
   "metadata": {},
   "source": [
    "**Exercise 6** Use the `quad` function to perform the Planck function integral that you did in Exercises 5.  Compare your earlier results to the result from this one.  Use the %timeit function to time your earlier functions and compare your results to the built-in function.  `quad` takes as argument your function name, the start and end points for the integral and any other arguments needed for the function - in the case of `Planck`, the other argument you must supply is temperature."
   ]
  },
  {
   "cell_type": "code",
   "execution_count": null,
   "metadata": {
    "collapsed": true
   },
   "outputs": [],
   "source": []
  }
 ],
 "metadata": {
  "anaconda-cloud": {},
  "kernelspec": {
   "display_name": "Python [py36]",
   "language": "python",
   "name": "Python [py36]"
  },
  "language_info": {
   "codemirror_mode": {
    "name": "ipython",
    "version": 3
   },
   "file_extension": ".py",
   "mimetype": "text/x-python",
   "name": "python",
   "nbconvert_exporter": "python",
   "pygments_lexer": "ipython3",
   "version": "3.6.3"
  }
 },
 "nbformat": 4,
 "nbformat_minor": 1
}
